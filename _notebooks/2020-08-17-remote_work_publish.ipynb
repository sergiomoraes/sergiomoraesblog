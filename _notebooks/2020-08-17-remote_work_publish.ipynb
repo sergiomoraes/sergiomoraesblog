{
 "cells": [
  {
   "cell_type": "markdown",
   "metadata": {},
   "source": [
    "# \"Remote Work During the Pandemic\"\n",
    "\n",
    "- toc: false\n",
    "- branch: master\n",
    "- badges: true\n",
    "- comments: true\n",
    "- categories: [collaboration, communication, virtual work]\n",
    "- image: images/014-work.png\n",
    "- hide: false\n",
    "- search_exclude: false\n",
    "- show-image: false"
   ]
  },
  {
   "cell_type": "markdown",
   "metadata": {},
   "source": [
    "I've been thinking a lot about remote work/ virtual work and I'd like to share some of my thoughts.\n",
    "\n",
    "Due to the pandemic, naturally, companies started to adjust and allow team members to work from home. However, what I would like to focus on is how that transition has been dealt with.\n",
    "\n",
    "Remote work/ virtual work/ WFH, is not a new thing. We've been talking about it for quite a while now ([2013 Harvard Business Review article: The Third Wave of Virtual Work](https://hbr.org/2013/01/the-third-wave-of-virtual-work \"The Third Wave of Virtual Work by Tammy Johns and Lynda Gratton\")). What's new is the colossal number of people making the transition all at once and the lack of preparation from organizations.\n",
    "\n",
    "Companies - and certainly vendors! - are willing to overlook the fact that team member collaboration and communication are not new challenges. They haven't spawned suddenly alongside the need for virtual work. Providing new, or existing, software solutions for remote work is necessary but no the end of the efforts for proper enablement of a good remote work enviroment.\n",
    "Ultimately, much like when team members are working in the office, without proper training, policies, recurring verbal and written reminders of expectations, flexibility, etc., team members will find their own ways through the available systems and methods of communication.\n",
    "\n",
    "The issue being, when people find their own ways, your organization ends up with 100 different ways of communicating and collaborating, which means, people are most likely spending valuable time recuperating information lost during those interactions.\n",
    "The harm here is real, and it much deeper than organizations are willing to recognize. Content management becomes more elusive, knowledge management goes pretty much out the window, burn out is even more rarely recognized, and organizations lose valuable team members.\n",
    "\n",
    "Here are some resources I found interesting or noteworthy. These are meant to get you started on your own research or thinking about the subject.\n",
    "_I'm not endorsing any papers, publications, or articles. I'm only sharing resources I came across while doing my own research. With a quick glance it should be obvious that some of these don't have a good enough sample size, peer-review, etc._\n",
    "\n",
    "[A Guide to Managing Your (Newly) Remote Workers](https://hbr.org/2020/03/a-guide-to-managing-your-newly-remote-workers)\n",
    "Research referenced in the article above:\n",
    "An interesting paper looking at virtual work from the perspective of the individual.\n",
    "[Changing the Perspective of Virtual Work: Building Virtual Intelligence at the Individual Level](https://www.academia.edu/33575597/CHANGING_THE_PERSPECTIVE_OF_VIRTUAL_WORK_BUILDING_VIRTUAL_INTELLIGENCE_AT_THE_INDIVIDUAL_LEVEL?source=swp_share)\n",
    "\n",
    "Research from the U.S. Department of Energy - Office of Scientific and Technical Information. [The Challenge and Promise of Remote Work: A Brief Study of Remote Work and Best Practices](https://www.osti.gov/biblio/1487022)\n",
    "\n",
    "An argument for an expansion of remote work in the future. [The Case for Remote Work](https://lib.dr.iastate.edu/econ_workingpapers/102/)\n",
    "\n",
    "A direct look into how Covid-19 has changed virtual work. [An affordance perspective of team collaboration and enforced working from home during COVID-19](https://www.tandfonline.com/doi/full/10.1080/0960085X.2020.1800417)\n",
    "\n",
    "Truly fascinating thing. Putting aside the creepiness possibilities, this sort of technology targets one of the biggest concerns I have around virtual work - the challenges around lack of visual queus, expressions, sounds, etc., are really hard to solve. [Visualizing Gaze Information from Multiple Students to Support Remote Instruction](https://dl.acm.org/doi/abs/10.1145/3170427.3188453)\n",
    "\n",
    "[Remote workers’ wellbeing in the age of COVID-19](https://www.microsoft.com/en-us/research/publication/remote-workers-wellbeing-in-the-age-of-covid-19/)\n",
    "\n",
    "_Originally posted on [Twitter @SergiMoraes](https://twitter.com/SergiMoraes)_"
   ]
  }
 ],
 "metadata": {
  "kernelspec": {
   "display_name": "Python 3",
   "language": "python",
   "name": "python3"
  },
  "language_info": {
   "codemirror_mode": {
    "name": "ipython",
    "version": 3
   },
   "file_extension": ".py",
   "mimetype": "text/x-python",
   "name": "python",
   "nbconvert_exporter": "python",
   "pygments_lexer": "ipython3",
   "version": "3.8.5"
  }
 },
 "nbformat": 4,
 "nbformat_minor": 4
}
