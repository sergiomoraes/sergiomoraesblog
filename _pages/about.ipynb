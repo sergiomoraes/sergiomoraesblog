{
 "metadata": {
  "language_info": {
   "codemirror_mode": {
    "name": "ipython",
    "version": 3
   },
   "file_extension": ".py",
   "mimetype": "text/x-python",
   "name": "python",
   "nbconvert_exporter": "python",
   "pygments_lexer": "ipython3",
   "version": 3
  },
  "orig_nbformat": 2
 },
 "nbformat": 4,
 "nbformat_minor": 2,
 "cells": [
  {
   "cell_type": "code",
   "execution_count": null,
   "metadata": {},
   "outputs": [],
   "source": [
    "# \"About Me\"\n",
    "\n",
    "- toc: false\n",
    "- branch: master\n",
    "- comments: false\n",
    "- author: Sergio Moraes\n",
    "- badges: true\n",
    "- categories: [about]\n",
    "- hide: true\n",
    "- permalink: /about/\n",
    "\n",
    "Here I share my personal thoughts around technology, data governance, and personal projects. I'm a Data Governance & Data Quality professional, and spend most of my time thinking about data and how it influences our lives.\n",
    "\n",
    "Reach out if you'd like to talk about anything data, enterprise project management methodologies, or computer science.\n",
    "\n",
    "\n",
    "My preferred contact method is email: <sergiomoraes@ieee.org>\n",
    "\n",
    "You can also find me on [Twitter](https://twitter.com/SergiMoraes)\n",
    "\n",
    "> twitter: https://twitter.com/SergiMoraes\n",
    "\n",
    "![](../images/supporting-member-badge.png)\n",
    "\n",
    "> Note: Support Python [Software Foundation](https://www.python.org/psf/)\n"
   ]
  }
 ]
}